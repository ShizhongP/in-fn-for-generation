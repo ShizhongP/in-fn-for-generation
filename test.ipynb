{
 "cells": [
  {
   "cell_type": "code",
   "execution_count": 2,
   "metadata": {},
   "outputs": [],
   "source": [
    "import pickle\n",
    "data = pickle.load(open('influences_test_1.pkl', 'rb'))"
   ]
  },
  {
   "cell_type": "code",
   "execution_count": 5,
   "metadata": {},
   "outputs": [
    {
     "name": "stdout",
     "output_type": "stream",
     "text": [
      "Loss: tensor(11., grad_fn=<SumBackward0>)\n",
      "Gradient of x: tensor([3., 4.], grad_fn=<MulBackward0>)\n",
      "Gradient of y: tensor([1., 2.], grad_fn=<MulBackward0>)\n"
     ]
    }
   ],
   "source": [
    "import torch\n",
    "\n",
    "# 定义模型参数\n",
    "x = torch.tensor([1.0, 2.0], requires_grad=True)\n",
    "y = torch.tensor([3.0, 4.0], requires_grad=True)\n",
    "\n",
    "# 定义损失函数\n",
    "z = x * y\n",
    "loss = z.sum()\n",
    "print(\"Loss:\", loss)\n",
    "# 计算梯度\n",
    "grads = torch.autograd.grad(outputs=loss, inputs=[x, y], create_graph=True)\n",
    "\n",
    "# 打印梯度\n",
    "print(\"Gradient of x:\", grads[0])\n",
    "print(\"Gradient of y:\", grads[1])"
   ]
  },
  {
   "cell_type": "code",
   "execution_count": null,
   "metadata": {},
   "outputs": [],
   "source": []
  }
 ],
 "metadata": {
  "kernelspec": {
   "display_name": "torch",
   "language": "python",
   "name": "python3"
  },
  "language_info": {
   "codemirror_mode": {
    "name": "ipython",
    "version": 3
   },
   "file_extension": ".py",
   "mimetype": "text/x-python",
   "name": "python",
   "nbconvert_exporter": "python",
   "pygments_lexer": "ipython3",
   "version": "3.10.15"
  }
 },
 "nbformat": 4,
 "nbformat_minor": 2
}
